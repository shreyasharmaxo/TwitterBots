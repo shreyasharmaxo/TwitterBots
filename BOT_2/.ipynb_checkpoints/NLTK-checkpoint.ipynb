{
 "cells": [
  {
   "cell_type": "code",
   "execution_count": 17,
   "metadata": {
    "collapsed": false
   },
   "outputs": [
    {
     "name": "stdout",
     "output_type": "stream",
     "text": [
      "Requirement already satisfied: grammar_check in /Users/Sri/anaconda/lib/python2.7/site-packages\n",
      "Requirement already satisfied: nltk in /Users/Sri/anaconda/lib/python2.7/site-packages\n",
      "Requirement already satisfied: six in /Users/Sri/anaconda/lib/python2.7/site-packages (from nltk)\n"
     ]
    }
   ],
   "source": [
    "!pip install grammar_check\n",
    "!pip install nltk"
   ]
  },
  {
   "cell_type": "code",
   "execution_count": 44,
   "metadata": {
    "collapsed": true
   },
   "outputs": [],
   "source": [
    "import grammar_check\n",
    "import nltk\n",
    "import os"
   ]
  },
  {
   "cell_type": "code",
   "execution_count": 4,
   "metadata": {
    "collapsed": true
   },
   "outputs": [],
   "source": [
    "tool = grammar_check.LanguageTool('en-GB')"
   ]
  },
  {
   "cell_type": "code",
   "execution_count": 25,
   "metadata": {
    "collapsed": true
   },
   "outputs": [],
   "source": [
    "text = 'I think that this is an bad sentence'"
   ]
  },
  {
   "cell_type": "code",
   "execution_count": 26,
   "metadata": {
    "collapsed": false
   },
   "outputs": [
    {
     "data": {
      "text/plain": [
       "2"
      ]
     },
     "execution_count": 26,
     "metadata": {},
     "output_type": "execute_result"
    }
   ],
   "source": [
    "matches = tool.check(text)\n",
    "len(matches)"
   ]
  },
  {
   "cell_type": "code",
   "execution_count": 27,
   "metadata": {
    "collapsed": false
   },
   "outputs": [
    {
     "data": {
      "text/plain": [
       "u'I think that this is a bad sentence'"
      ]
     },
     "execution_count": 27,
     "metadata": {},
     "output_type": "execute_result"
    }
   ],
   "source": [
    "grammar_check.correct(text,matches)"
   ]
  },
  {
   "cell_type": "code",
   "execution_count": 33,
   "metadata": {
    "collapsed": true
   },
   "outputs": [],
   "source": [
    "from nltk.parse.generate import generate, demo_grammar\n",
    "from nltk import CFG"
   ]
  },
  {
   "cell_type": "code",
   "execution_count": 34,
   "metadata": {
    "collapsed": false
   },
   "outputs": [
    {
     "name": "stdout",
     "output_type": "stream",
     "text": [
      "Grammar with 13 productions (start state = S)\n",
      "    S -> NP VP\n",
      "    NP -> Det N\n",
      "    PP -> P NP\n",
      "    VP -> 'slept'\n",
      "    VP -> 'saw' NP\n",
      "    VP -> 'walked' PP\n",
      "    Det -> 'the'\n",
      "    Det -> 'a'\n",
      "    N -> 'man'\n",
      "    N -> 'park'\n",
      "    N -> 'dog'\n",
      "    P -> 'in'\n",
      "    P -> 'with'\n"
     ]
    }
   ],
   "source": [
    "grammar = CFG.fromstring(demo_grammar)\n",
    "print(grammar)"
   ]
  },
  {
   "cell_type": "code",
   "execution_count": 35,
   "metadata": {
    "collapsed": false
   },
   "outputs": [
    {
     "name": "stdout",
     "output_type": "stream",
     "text": [
      "the man slept\n",
      "the man saw the man\n",
      "the man saw the park\n",
      "the man saw the dog\n",
      "the man saw a man\n",
      "the man saw a park\n",
      "the man saw a dog\n",
      "the man walked in the man\n",
      "the man walked in the park\n",
      "the man walked in the dog\n"
     ]
    }
   ],
   "source": [
    "for sentence in generate(grammar, n=10):\n",
    "...     print(' '.join(sentence))"
   ]
  },
  {
   "cell_type": "code",
   "execution_count": 36,
   "metadata": {
    "collapsed": false
   },
   "outputs": [
    {
     "name": "stdout",
     "output_type": "stream",
     "text": [
      "the man slept\n",
      "the park slept\n",
      "the dog slept\n",
      "a man slept\n",
      "a park slept\n",
      "a dog slept\n"
     ]
    }
   ],
   "source": [
    "for sentence in generate(grammar, depth=4):\n",
    "...     print(' '.join(sentence))"
   ]
  },
  {
   "cell_type": "code",
   "execution_count": 58,
   "metadata": {
    "collapsed": false
   },
   "outputs": [],
   "source": [
    "from nltk import PCFG\n",
    "toy_pcfg1 = PCFG.fromstring(\"\"\"\n",
    "    S -> NP VP [1.0]\n",
    "    NP -> Det N [0.5] | NP PP [0.25] | 'John' [0.1] | 'I' [0.15]\n",
    "    Det -> 'the' [0.8] | 'my' [0.2]\n",
    "    N -> 'man' [0.5] | 'telescope' [0.5]\n",
    "    VP -> VP PP [0.1] | V NP [0.7] | V [0.2]\n",
    "    V -> 'ate' [0.35] | 'saw' [0.65]\n",
    "    PP -> P NP [1.0]\n",
    "    P -> 'with' [0.61] | 'under' [0.39]\n",
    "\"\"\")"
   ]
  },
  {
   "cell_type": "code",
   "execution_count": 64,
   "metadata": {
    "collapsed": false,
    "scrolled": true
   },
   "outputs": [
    {
     "name": "stdout",
     "output_type": "stream",
     "text": [
      "('A PCFG production:', NP -> NP PP [0.25])\n",
      "('pcfg_prod.lhs()  =>', NP)\n",
      "('pcfg_prod.rhs()  =>', (NP, PP))\n",
      "('pcfg_prod.prob() =>', 0.25)\n"
     ]
    }
   ],
   "source": [
    "from nltk.corpus import treebank\n",
    "from nltk import treetransforms\n",
    "from nltk import induce_pcfg\n",
    "from nltk.parse import pchart\n",
    "\n",
    "pcfg_prods = toy_pcfg1.productions()\n",
    "\n",
    "pcfg_prod = pcfg_prods[2]\n",
    "print('A PCFG production:', pcfg_prod)\n",
    "print('pcfg_prod.lhs()  =>', pcfg_prod.lhs())\n",
    "print('pcfg_prod.rhs()  =>', pcfg_prod.rhs())\n",
    "print('pcfg_prod.prob() =>', pcfg_prod.prob())"
   ]
  },
  {
   "cell_type": "code",
   "execution_count": 66,
   "metadata": {
    "collapsed": false,
    "scrolled": false
   },
   "outputs": [
    {
     "name": "stdout",
     "output_type": "stream",
     "text": [
      "the man ate John\n",
      "the man ate I\n",
      "the man saw John\n",
      "the man saw I\n",
      "the man ate\n",
      "the man saw\n",
      "the telescope ate John\n",
      "the telescope ate I\n",
      "the telescope saw John\n",
      "the telescope saw I\n",
      "the telescope ate\n",
      "the telescope saw\n",
      "my man ate John\n",
      "my man ate I\n",
      "my man saw John\n",
      "my man saw I\n",
      "my man ate\n",
      "my man saw\n",
      "my telescope ate John\n",
      "my telescope ate I\n",
      "my telescope saw John\n",
      "my telescope saw I\n",
      "my telescope ate\n",
      "my telescope saw\n",
      "John ate John\n",
      "John ate I\n",
      "John saw John\n",
      "John saw I\n",
      "John ate\n",
      "John saw\n",
      "I ate John\n",
      "I ate I\n",
      "I saw John\n",
      "I saw I\n",
      "I ate\n",
      "I saw\n"
     ]
    }
   ],
   "source": [
    "for sentence in generate(toy_pcfg1, depth=4):\n",
    "    print(\" \".join(sentence))\n"
   ]
  },
  {
   "cell_type": "code",
   "execution_count": 67,
   "metadata": {
    "collapsed": false
   },
   "outputs": [
    {
     "data": {
      "text/plain": [
       "36"
      ]
     },
     "execution_count": 67,
     "metadata": {},
     "output_type": "execute_result"
    }
   ],
   "source": [
    "len(list(generate(toy_pcfg1, depth=4)))"
   ]
  },
  {
   "cell_type": "code",
   "execution_count": null,
   "metadata": {
    "collapsed": true
   },
   "outputs": [],
   "source": [
    "#http://www.cs.columbia.edu/~mcollins/courses/nlp2011/notes/pcfgs.pdf"
   ]
  }
 ],
 "metadata": {
  "kernelspec": {
   "display_name": "Python 2",
   "language": "python",
   "name": "python2"
  },
  "language_info": {
   "codemirror_mode": {
    "name": "ipython",
    "version": 2
   },
   "file_extension": ".py",
   "mimetype": "text/x-python",
   "name": "python",
   "nbconvert_exporter": "python",
   "pygments_lexer": "ipython2",
   "version": "2.7.13"
  }
 },
 "nbformat": 4,
 "nbformat_minor": 2
}
